{
 "cells": [
  {
   "cell_type": "markdown",
   "metadata": {},
   "source": [
    "# Imports"
   ]
  },
  {
   "cell_type": "code",
   "execution_count": 3,
   "metadata": {},
   "outputs": [],
   "source": [
    "import pandas as pd\n",
    "from sklearn import datasets\n",
    "import numpy as np\n",
    "import matplotlib.pyplot as plt\n",
    "from sklearn.linear_model import LinearRegression\n",
    "from sklearn.model_selection import train_test_split\n",
    "import math"
   ]
  },
  {
   "cell_type": "markdown",
   "metadata": {},
   "source": [
    "# Loading data"
   ]
  },
  {
   "cell_type": "code",
   "execution_count": 4,
   "metadata": {},
   "outputs": [
    {
     "data": {
      "text/plain": [
       "array([24. , 21.6, 34.7, 33.4, 36.2, 28.7, 22.9, 27.1, 16.5, 18.9, 15. ,\n",
       "       18.9, 21.7, 20.4, 18.2, 19.9, 23.1, 17.5, 20.2, 18.2, 13.6, 19.6,\n",
       "       15.2, 14.5, 15.6, 13.9, 16.6, 14.8, 18.4, 21. , 12.7, 14.5, 13.2,\n",
       "       13.1, 13.5, 18.9, 20. , 21. , 24.7, 30.8, 34.9, 26.6, 25.3, 24.7,\n",
       "       21.2, 19.3, 20. , 16.6, 14.4, 19.4, 19.7, 20.5, 25. , 23.4, 18.9,\n",
       "       35.4, 24.7, 31.6, 23.3, 19.6, 18.7, 16. , 22.2, 25. , 33. , 23.5,\n",
       "       19.4, 22. , 17.4, 20.9, 24.2, 21.7, 22.8, 23.4, 24.1, 21.4, 20. ,\n",
       "       20.8, 21.2, 20.3, 28. , 23.9, 24.8, 22.9, 23.9, 26.6, 22.5, 22.2,\n",
       "       23.6, 28.7, 22.6, 22. , 22.9, 25. , 20.6, 28.4, 21.4, 38.7, 43.8,\n",
       "       33.2, 27.5, 26.5, 18.6, 19.3, 20.1, 19.5, 19.5, 20.4, 19.8, 19.4,\n",
       "       21.7, 22.8, 18.8, 18.7, 18.5, 18.3, 21.2, 19.2, 20.4, 19.3, 22. ,\n",
       "       20.3, 20.5, 17.3, 18.8, 21.4, 15.7, 16.2, 18. , 14.3, 19.2, 19.6,\n",
       "       23. , 18.4, 15.6, 18.1, 17.4, 17.1, 13.3, 17.8, 14. , 14.4, 13.4,\n",
       "       15.6, 11.8, 13.8, 15.6, 14.6, 17.8, 15.4, 21.5, 19.6, 15.3, 19.4,\n",
       "       17. , 15.6, 13.1, 41.3, 24.3, 23.3, 27. , 50. , 50. , 50. , 22.7,\n",
       "       25. , 50. , 23.8, 23.8, 22.3, 17.4, 19.1, 23.1, 23.6, 22.6, 29.4,\n",
       "       23.2, 24.6, 29.9, 37.2, 39.8, 36.2, 37.9, 32.5, 26.4, 29.6, 50. ,\n",
       "       32. , 29.8, 34.9, 37. , 30.5, 36.4, 31.1, 29.1, 50. , 33.3, 30.3,\n",
       "       34.6, 34.9, 32.9, 24.1, 42.3, 48.5, 50. , 22.6, 24.4, 22.5, 24.4,\n",
       "       20. , 21.7, 19.3, 22.4, 28.1, 23.7, 25. , 23.3, 28.7, 21.5, 23. ,\n",
       "       26.7, 21.7, 27.5, 30.1, 44.8, 50. , 37.6, 31.6, 46.7, 31.5, 24.3,\n",
       "       31.7, 41.7, 48.3, 29. , 24. , 25.1, 31.5, 23.7, 23.3, 22. , 20.1,\n",
       "       22.2, 23.7, 17.6, 18.5, 24.3, 20.5, 24.5, 26.2, 24.4, 24.8, 29.6,\n",
       "       42.8, 21.9, 20.9, 44. , 50. , 36. , 30.1, 33.8, 43.1, 48.8, 31. ,\n",
       "       36.5, 22.8, 30.7, 50. , 43.5, 20.7, 21.1, 25.2, 24.4, 35.2, 32.4,\n",
       "       32. , 33.2, 33.1, 29.1, 35.1, 45.4, 35.4, 46. , 50. , 32.2, 22. ,\n",
       "       20.1, 23.2, 22.3, 24.8, 28.5, 37.3, 27.9, 23.9, 21.7, 28.6, 27.1,\n",
       "       20.3, 22.5, 29. , 24.8, 22. , 26.4, 33.1, 36.1, 28.4, 33.4, 28.2,\n",
       "       22.8, 20.3, 16.1, 22.1, 19.4, 21.6, 23.8, 16.2, 17.8, 19.8, 23.1,\n",
       "       21. , 23.8, 23.1, 20.4, 18.5, 25. , 24.6, 23. , 22.2, 19.3, 22.6,\n",
       "       19.8, 17.1, 19.4, 22.2, 20.7, 21.1, 19.5, 18.5, 20.6, 19. , 18.7,\n",
       "       32.7, 16.5, 23.9, 31.2, 17.5, 17.2, 23.1, 24.5, 26.6, 22.9, 24.1,\n",
       "       18.6, 30.1, 18.2, 20.6, 17.8, 21.7, 22.7, 22.6, 25. , 19.9, 20.8,\n",
       "       16.8, 21.9, 27.5, 21.9, 23.1, 50. , 50. , 50. , 50. , 50. , 13.8,\n",
       "       13.8, 15. , 13.9, 13.3, 13.1, 10.2, 10.4, 10.9, 11.3, 12.3,  8.8,\n",
       "        7.2, 10.5,  7.4, 10.2, 11.5, 15.1, 23.2,  9.7, 13.8, 12.7, 13.1,\n",
       "       12.5,  8.5,  5. ,  6.3,  5.6,  7.2, 12.1,  8.3,  8.5,  5. , 11.9,\n",
       "       27.9, 17.2, 27.5, 15. , 17.2, 17.9, 16.3,  7. ,  7.2,  7.5, 10.4,\n",
       "        8.8,  8.4, 16.7, 14.2, 20.8, 13.4, 11.7,  8.3, 10.2, 10.9, 11. ,\n",
       "        9.5, 14.5, 14.1, 16.1, 14.3, 11.7, 13.4,  9.6,  8.7,  8.4, 12.8,\n",
       "       10.5, 17.1, 18.4, 15.4, 10.8, 11.8, 14.9, 12.6, 14.1, 13. , 13.4,\n",
       "       15.2, 16.1, 17.8, 14.9, 14.1, 12.7, 13.5, 14.9, 20. , 16.4, 17.7,\n",
       "       19.5, 20.2, 21.4, 19.9, 19. , 19.1, 19.1, 20.1, 19.9, 19.6, 23.2,\n",
       "       29.8, 13.8, 13.3, 16.7, 12. , 14.6, 21.4, 23. , 23.7, 25. , 21.8,\n",
       "       20.6, 21.2, 19.1, 20.6, 15.2,  7. ,  8.1, 13.6, 20.1, 21.8, 24.5,\n",
       "       23.1, 19.7, 18.3, 21.2, 17.5, 16.8, 22.4, 20.6, 23.9, 22. , 11.9])"
      ]
     },
     "execution_count": 4,
     "metadata": {},
     "output_type": "execute_result"
    }
   ],
   "source": [
    "boston = datasets.load_boston()\n",
    "x_train, x_test, y_train, y_test = train_test_split(boston.data, boston.target, test_size = 0.2)\n",
    "# boston.data[0,:]\n",
    "# x_train\n",
    "df = pd.DataFrame(boston.data)\n",
    "df.columns = boston.feature_names\n",
    "boston.target"
   ]
  },
  {
   "cell_type": "markdown",
   "metadata": {},
   "source": [
    "# Linear Regression"
   ]
  },
  {
   "cell_type": "code",
   "execution_count": 5,
   "metadata": {},
   "outputs": [],
   "source": [
    "def fit(x, y):\n",
    "    theta = np.zeros(x.shape[1])\n",
    "    feature_numbers = x.shape[1]\n",
    "    m = len(y)\n",
    "    for i in range(feature_numbers):\n",
    "        x_mean = 0\n",
    "        y_mean = y.mean()\n",
    "        xy_mean = 0\n",
    "        x2_mean = 0\n",
    "        for j in range(m):\n",
    "            x_mean += (1/m) * (x[j][i])\n",
    "            xy_mean += (1/m) * (x[j][i]*y[j])\n",
    "            x2_mean += (1/m) * (x[j][i]**2)\n",
    "        numerator = x_mean*y_mean - xy_mean\n",
    "        denominator = x_mean**2 - x2_mean\n",
    "        theta[i] = numerator/denominator\n",
    "    theta_x_sum = 0\n",
    "    for i in range(feature_numbers):\n",
    "        x_mean = 0\n",
    "        for j in range(m):\n",
    "            x_mean += (1/m)*x[j][i]\n",
    "        theta_x_sum += theta[i]*x_mean\n",
    "    theta0 = y_mean - theta_x_sum\n",
    "    return theta, theta0\n",
    "\n",
    "def predict(x, theta, theta0):\n",
    "    m = x.shape[0]\n",
    "    feature_numbers = x.shape[1]\n",
    "    predictions = np.zeros(m)\n",
    "    for i in range(m):\n",
    "        theta_x_sum = 0\n",
    "        for j in range(feature_numbers):\n",
    "            theta_x_sum += theta[j]*x[i][j]\n",
    "        predictions[i] = theta_x_sum + theta0\n",
    "    return predictions\n",
    "\n",
    "def score(x, y, theta, theta0):\n",
    "    y_predicted = predict(x, theta, theta0)\n",
    "    m = len(y)\n",
    "    u = 0\n",
    "    v = 0\n",
    "    for i in range(m):\n",
    "        u += (y[i] - y_predicted[i])**2\n",
    "        v += (y[i] - y.mean())**2\n",
    "    R = (1 - (u/v))\n",
    "    return R\n",
    "\n",
    "def feature_scaling(x, y):\n",
    "    m = len(y)\n",
    "    feature_numbers = x.shape[1]\n",
    "    for i in range(feature_numbers):\n",
    "        mean = 0\n",
    "        for k in range(m):\n",
    "            mean += (1/m) * x[k][i]\n",
    "        for j in range(m):\n",
    "            x[j][i] = (x[j][i] - mean)\n"
   ]
  },
  {
   "cell_type": "code",
   "execution_count": 6,
   "metadata": {},
   "outputs": [
    {
     "data": {
      "text/plain": [
       "0.7538094957837882"
      ]
     },
     "execution_count": 6,
     "metadata": {},
     "output_type": "execute_result"
    }
   ],
   "source": [
    "clf = LinearRegression()\n",
    "clf.fit(x_train, y_train)\n",
    "clf.score(x_test, y_test)"
   ]
  },
  {
   "cell_type": "code",
   "execution_count": 7,
   "metadata": {},
   "outputs": [
    {
     "name": "stdout",
     "output_type": "stream",
     "text": [
      "-7.866187654443539\n"
     ]
    },
    {
     "data": {
      "text/plain": [
       "array([ 79.52303637, -19.94809644,  58.55528658,   2.45048161,\n",
       "        47.98757963,  67.31440846,  71.2868524 , -34.51652868,\n",
       "        22.15027082,  61.20283139,  67.13434559, -15.53159196,\n",
       "       -53.44866464,  78.38031725,  11.92436202,  67.14201682,\n",
       "       -15.12240007, -13.41299631,  27.09152192, -19.41300073,\n",
       "        64.50414937, -23.20333421,  67.7494149 ,  11.90106053,\n",
       "         3.37811543,  88.97058706,  57.17609887,   6.41624244,\n",
       "        -6.37112514, -46.18354315,  29.42079508,  16.08598488,\n",
       "        27.73307622,  56.94029662,  60.41977251, -22.91285777,\n",
       "        47.89938607,  38.73835705, 102.12956173,  24.98410164,\n",
       "       -13.96185881,  65.80913126,  18.1811426 , -35.91783525,\n",
       "        16.20149662,  58.09954925,   5.59460842,  32.87018491,\n",
       "        15.59403337,  34.61468372, -10.03821253, -20.85771536,\n",
       "         2.05127291,  29.50229022, -23.92678948,  52.21591556,\n",
       "       -19.00496464,  36.92101575,  43.85429082,  35.27708892,\n",
       "        -8.35362494,  50.47366867,  18.73587124,  43.41172932,\n",
       "        10.49171026, -20.0743807 ,  35.6526944 ,  -3.02529998,\n",
       "        -5.56360814,  29.3967754 ,  30.55321606,  10.77059405,\n",
       "         4.71233174,  17.49531361,  40.83574636,  30.49827964,\n",
       "        25.77932587, -15.37123879,  -1.77121821,  59.50728322,\n",
       "        -9.20345515, -17.71668348,  38.30925965,  54.04830043,\n",
       "       -25.09076122, -18.76938252, -48.15833519, -31.30980272,\n",
       "       -61.50799191,  44.97443236,  15.608487  ,  83.94796895,\n",
       "        30.14162983, -19.36956086,  44.83256383,  20.26089581,\n",
       "        -9.34638035,  10.47641439,  32.38100549,  68.04738462,\n",
       "        12.70544395,  -1.93724615])"
      ]
     },
     "execution_count": 7,
     "metadata": {},
     "output_type": "execute_result"
    }
   ],
   "source": [
    "# feature_scaling(x_train, y_train)\n",
    "# feature_scaling(x_test, y_test)\n",
    "theta, theta0 = fit(x_train,y_train)\n",
    "print(score(x_test, y_test, theta, theta0))\n",
    "yp = predict(x_test, theta, theta0)\n",
    "# y_train.mean()\n",
    "yp"
   ]
  },
  {
   "cell_type": "markdown",
   "metadata": {},
   "source": [
    "# Gradient Descent for single dimension"
   ]
  },
  {
   "cell_type": "code",
   "execution_count": 8,
   "metadata": {},
   "outputs": [],
   "source": [
    "def step_gradient(x, y, learning_rate, m_current, b_current):\n",
    "    m_slope = 0\n",
    "    b_slope = 0\n",
    "    n = len(y)\n",
    "    for i in range(n):\n",
    "        m_slope += (-2/n)(y[i] - m_current*x - b_current)*x\n",
    "        b_slope += (-2/n)(y[i] - m_current*x - b_current)\n",
    "    new_m = m_current - learning_rate*m_slope\n",
    "    new_b = b_current - learning_rate*b_slope\n",
    "    return new_m, new_b\n",
    "\n",
    "def cost_gd(x, y, m, b):\n",
    "    cost = 0\n",
    "    for i in range(len(y)):\n",
    "        cost += (y[i] - m*x[i] -b)**2\n",
    "    return cost/len(y)\n",
    "\n",
    "def gd_runner(x, y, learning_rate, num_iterations = 1000):\n",
    "    m_current = 0\n",
    "    b_current = 0\n",
    "    print(\"Start Cost\", cost_gd(x, y, m_current, b_current))\n",
    "    for i in range(num_iterations):\n",
    "        m_current, b_current = step_gradient(x, y, learning_rate, m_current, b_current)\n",
    "    print(\"Final Cost\", cost_gd(x, y, m_current, b_current))\n",
    "        # we can print cost at every step"
   ]
  },
  {
   "cell_type": "markdown",
   "metadata": {},
   "source": [
    "# Gradient Descent for n dimensions"
   ]
  },
  {
   "cell_type": "code",
   "execution_count": 93,
   "metadata": {},
   "outputs": [],
   "source": [
    "def step_gradient(x, y, learning_rate, m_current, b_current):\n",
    "    m_slope = np.zeros(x.shape[1])\n",
    "    b_slope = 0\n",
    "    new_m = np.zeros(x.shape[1])\n",
    "    n = x.shape[0]\n",
    "    for i in range(x.shape[1]):\n",
    "        for j in range(n):\n",
    "            m_slope[i] += ((-2/n)*(y[j] - (m_current*x[j]).sum() - b_current)*x[j,i])\n",
    "            new_m[i] = m_current[i] - (learning_rate*m_slope[i])\n",
    "            b_slope += ((-2/n)*(y[i] - (m_current*x[i]).sum() - b_current))\n",
    "            new_b = b_current - learning_rate*b_slope\n",
    "#     for i in range(n):\n",
    "        \n",
    "    \n",
    "    return new_m, new_b\n",
    "\n",
    "\n",
    "def cost_gd(x, y, m, b):\n",
    "    total_cost = 0\n",
    "    n = len(y)\n",
    "    for i in range(n):\n",
    "        sum_mx = 0\n",
    "        for j in range(x.shape[1]):\n",
    "            sum_mx += m[j]*x[i,j]\n",
    "        total_cost += (y[i] - sum_mx - b)**2\n",
    "    return total_cost/n\n",
    "\n",
    "\n",
    "def gd_runner(x, y, learning_rate = 0.0001, num_iterations = 15):\n",
    "    m_current = np.zeros(x.shape[1])\n",
    "    b_current = 0\n",
    "    print(\"Start Cost\", cost_gd(x, y, m_current, b_current))\n",
    "    for i in range(num_iterations):\n",
    "        m_current, b_current = step_gradient(x, y, learning_rate, m_current, b_current)\n",
    "    print(\"Final Cost\", cost_gd(x, y, m_current, b_current))\n",
    "    return m_current, b_current\n",
    "\n",
    "\n",
    "def predict_gd(x, theta, theta0):\n",
    "    m = x.shape[0]\n",
    "    predictions = np.zeros(m)\n",
    "    feature_numbers = x.shape[1]\n",
    "    for i in range(m):\n",
    "        theta_x_sum = 0\n",
    "        for j in range(feature_numbers):\n",
    "            theta_x_sum += theta[j]*x[i,j]\n",
    "        predictions[i] = theta_x_sum + theta0\n",
    "    return predictions"
   ]
  },
  {
   "cell_type": "code",
   "execution_count": 122,
   "metadata": {},
   "outputs": [
    {
     "name": "stdout",
     "output_type": "stream",
     "text": [
      "Start Cost 592.8874257425739\n",
      "Final Cost 68.71381674454024\n"
     ]
    },
    {
     "data": {
      "text/plain": [
       "array([27.47479814, 23.66898587, 27.65326351, 23.9591709 , 23.13469464,\n",
       "       29.84052394, 26.48057178, 22.85597314, 22.84900955, 26.42130361,\n",
       "       29.12594931, 21.28767215, 16.44139462, 24.0454068 , 22.31431831,\n",
       "       24.64368308, 20.73389863, 10.90918418, 23.23967581, 18.66101993,\n",
       "       29.63675263,  4.67383436, 25.59680683, 23.00113594, 23.83975887,\n",
       "       29.83944978, 23.44009755, 21.4875837 , 23.28343963, 22.32237662,\n",
       "       23.20007378, 23.35997137, 24.64938675, 28.51859528, 26.70441429,\n",
       "       23.46862755, 21.22709257, 23.24573845, 30.52417756, 23.59543825,\n",
       "       21.38491472, 26.40457842, 18.52987001, 23.18034872, 23.29636847,\n",
       "       21.42575504, 23.01496981, 22.60171759, 23.57073662, 22.90501917,\n",
       "       23.66073143, 23.51839144, 23.34324211, 23.49719127,  2.06895818,\n",
       "       28.80809138, 22.51177678, 22.27104764, 22.67582812, 23.14097908,\n",
       "       23.33211819, 24.95154133, 23.05535192, 22.31433667, 19.62377984,\n",
       "       20.49012171, 22.5961941 , 23.74874559, 20.86884503, 23.83273105,\n",
       "       21.05771494, 22.79636064, 24.08391997, 23.76459753, 24.51491928,\n",
       "       22.37556657, 23.77085106, 23.69113935, 21.62548726, 23.49613676,\n",
       "       22.5795047 , 23.3764736 , 21.90755113, 25.40517365, 19.48844167,\n",
       "       23.01763226,  7.83087321,  1.63135765,  1.15020048, 25.80650606,\n",
       "       23.72023524, 29.70322184, 25.14903053, 17.8360352 , 24.28534   ,\n",
       "       22.63114194, 23.51847414, 18.51648302, 22.69505368, 27.38037757,\n",
       "       22.5434681 , 21.24048548])"
      ]
     },
     "execution_count": 122,
     "metadata": {},
     "output_type": "execute_result"
    }
   ],
   "source": [
    "theta, theta0 = gd_runner(x_train, y_train, 0.0000027, 500)\n",
    "predict_gd(x_test, theta, theta0)"
   ]
  },
  {
   "cell_type": "code",
   "execution_count": 123,
   "metadata": {},
   "outputs": [
    {
     "data": {
      "text/plain": [
       "array([30.3, 15.1, 22.3, 18. , 26.6, 28.5, 36.4,  5.6, 21.7, 20.1, 30.8,\n",
       "       19.1,  8.8, 46. , 20.3, 50. , 17.8, 13.8, 22.4, 13. , 27.9, 14.1,\n",
       "       50. , 14.4, 17.1, 50. , 36.2, 12.7, 19.1,  7.4, 16.6, 18.3, 18.5,\n",
       "       20.6, 32. ,  8.5, 22.6, 23.8, 50. , 21.5, 19.9, 32.4, 23.8,  9.7,\n",
       "       20.4, 46.7, 19.7, 23.3, 19.4, 19. , 16.7,  7.2, 23. , 26.4, 13.4,\n",
       "       18.2, 12.1, 20. , 31.6, 20.4, 13.3, 24.8, 17.8, 21.2, 17. , 27.9,\n",
       "       25. , 17.8, 15.4, 22.8, 27. , 21.4, 19.6, 19.3, 20.7, 24.3, 23.1,\n",
       "       12.5, 17.3, 41.7, 50. , 20.8, 28.1, 22. , 21.9, 17.1, 10.4, 13.4,\n",
       "        8.8, 20.1, 16.5, 34.6, 16. , 20.8, 24.3, 24.5, 17.7, 13.9, 22.2,\n",
       "       22. , 22. , 20.6])"
      ]
     },
     "execution_count": 123,
     "metadata": {},
     "output_type": "execute_result"
    }
   ],
   "source": [
    "y_test"
   ]
  },
  {
   "cell_type": "code",
   "execution_count": null,
   "metadata": {},
   "outputs": [],
   "source": []
  }
 ],
 "metadata": {
  "kernelspec": {
   "display_name": "Python 3",
   "language": "python",
   "name": "python3"
  },
  "language_info": {
   "codemirror_mode": {
    "name": "ipython",
    "version": 3
   },
   "file_extension": ".py",
   "mimetype": "text/x-python",
   "name": "python",
   "nbconvert_exporter": "python",
   "pygments_lexer": "ipython3",
   "version": "3.6.4"
  }
 },
 "nbformat": 4,
 "nbformat_minor": 2
}
