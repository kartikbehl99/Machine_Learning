{
 "cells": [
  {
   "cell_type": "markdown",
   "metadata": {},
   "source": [
    "# Imports"
   ]
  },
  {
   "cell_type": "code",
   "execution_count": 1,
   "metadata": {},
   "outputs": [],
   "source": [
    "import numpy as np\n",
    "import matplotlib.pyplot as plt\n",
    "from sklearn import datasets"
   ]
  },
  {
   "cell_type": "markdown",
   "metadata": {},
   "source": [
    "# Generating sample data"
   ]
  },
  {
   "cell_type": "code",
   "execution_count": 3,
   "metadata": {},
   "outputs": [],
   "source": [
    "X = np.array([[1,2], [1.5,1.8], [5,8], [8,8], [1,0.6], [9,11], [8,2], [10,2], [9,3]])"
   ]
  },
  {
   "cell_type": "code",
   "execution_count": 4,
   "metadata": {},
   "outputs": [
    {
     "data": {
      "image/png": "[encoded data removed]",
      "text/plain": [
       "<matplotlib.figure.Figure at 0x220b13bb828>"
      ]
     },
     "metadata": {},
     "output_type": "display_data"
    }
   ],
   "source": [
    "plt.scatter(X[:,0], X[:,1])\n",
    "plt.show()"
   ]
  },
  {
   "cell_type": "markdown",
   "metadata": {},
   "source": [
    "# Mean shift code"
   ]
  },
  {
   "cell_type": "code",
   "execution_count": 18,
   "metadata": {},
   "outputs": [],
   "source": [
    "class Mean_shift:\n",
    "    def __init__(self, radius = 4):\n",
    "        #Here radius is the distance upto which we want to take points into that particular cluster\n",
    "        #As of now it is hard coded, we will see how to do it dynamically as well\n",
    "        #For the particular data we are using, radius = 4 will work but not for all datasets\n",
    "        self.radius = radius\n",
    "        \n",
    "    def fit(self, data):\n",
    "        centroids = {}\n",
    "        #Making a dictionary of centroid.\n",
    "        #Centroid is the centre of that particular cluster\n",
    "        #Initially in mean shift we take every point as a centroid\n",
    "        #This means that eac every point is a cluster in itself intially\n",
    "        \n",
    "        for i in range(len(data)):\n",
    "            centroids[i] = data[i]\n",
    "        \n",
    "        while True:\n",
    "            new_centroids = []\n",
    "            \n",
    "            for i in centroids:\n",
    "                in_radius = []\n",
    "                #This will be storing those which are in the radius set by us\n",
    "                \n",
    "                for featureset in data:\n",
    "                    if np.linalg.norm(featureset-centroids[i]) < self.radius:\n",
    "                        #This function calculates the euclidean distance between feature and centroid\n",
    "                        in_radius.append(featureset)\n",
    "                \n",
    "                new_centroid = np.average(in_radius, axis = 0)\n",
    "                new_centroids.append(tuple(new_centroid))\n",
    "            \n",
    "            uniques = sorted(list(set(new_centroids))) #set means unique sets, can be applied on tuple only, \n",
    "            #converting it to a list afterwards and sorting it\n",
    "            \n",
    "            prev_centroids = centroids\n",
    "            centroids = {}\n",
    "            \n",
    "            for i in range(len(uniques)):\n",
    "                centroids[i] = np.array(uniques[i]) #converting the tuple to np array\n",
    "                \n",
    "            optimized = False\n",
    "            \n",
    "            for i in centroids:\n",
    "                if np.array_equal(centroids[i], prev_centroids[i]):\n",
    "                    optimized = True\n",
    "                else:\n",
    "                    optimized = False\n",
    "                    break\n",
    "            \n",
    "            if optimized:\n",
    "                break\n",
    "                \n",
    "        self.centroids = centroids\n",
    "        \n",
    "    def predict(X):\n",
    "        pass"
   ]
  },
  {
   "cell_type": "code",
   "execution_count": 19,
   "metadata": {},
   "outputs": [],
   "source": [
    "clf = Mean_shift()\n",
    "clf.fit(X)\n",
    "centroids = clf.centroids"
   ]
  },
  {
   "cell_type": "code",
   "execution_count": 23,
   "metadata": {},
   "outputs": [
    {
     "data": {
      "image/png": "[encoded data removed]",
      "text/plain": [
       "<matplotlib.figure.Figure at 0x220b49e1748>"
      ]
     },
     "metadata": {},
     "output_type": "display_data"
    }
   ],
   "source": [
    "plt.scatter(X[:,0], X[:,1])\n",
    "\n",
    "for i in centroids:\n",
    "    plt.scatter(centroids[i][0], centroids[i][1], c='k', marker = '*')"
   ]
  }
 ],
 "metadata": {
  "kernelspec": {
   "display_name": "Python 3",
   "language": "python",
   "name": "python3"
  },
  "language_info": {
   "codemirror_mode": {
    "name": "ipython",
    "version": 3
   },
   "file_extension": ".py",
   "mimetype": "text/x-python",
   "name": "python",
   "nbconvert_exporter": "python",
   "pygments_lexer": "ipython3",
   "version": "3.6.4"
  }
 },
 "nbformat": 4,
 "nbformat_minor": 2
}
