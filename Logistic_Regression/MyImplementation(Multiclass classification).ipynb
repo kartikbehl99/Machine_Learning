{
 "cells": [
  {
   "cell_type": "code",
   "execution_count": 1,
   "metadata": {},
   "outputs": [],
   "source": [
    "import numpy as np\n",
    "import math\n",
    "import pandas as pd\n",
    "from sklearn.linear_model import LogisticRegression\n",
    "from sklearn.model_selection import train_test_split\n",
    "from sklearn import datasets"
   ]
  },
  {
   "cell_type": "code",
   "execution_count": 2,
   "metadata": {},
   "outputs": [],
   "source": [
    "iris = datasets.load_iris()"
   ]
  },
  {
   "cell_type": "code",
   "execution_count": 3,
   "metadata": {},
   "outputs": [],
   "source": [
    "classes = np.unique(iris.target)"
   ]
  },
  {
   "cell_type": "code",
   "execution_count": 4,
   "metadata": {},
   "outputs": [],
   "source": [
    "target = [[],[],[]]\n",
    "for i in range(len(classes)):\n",
    "    for j in range(len(iris.target)):\n",
    "        if(iris.target[j] == classes[i]):\n",
    "            target[i].append(1)\n",
    "        else:\n",
    "            target[i].append(0)\n",
    "            \n",
    "x_train = []\n",
    "x_test = []\n",
    "y_train = []\n",
    "y_test = []\n",
    "\n",
    "for i in range(len(classes)):\n",
    "    x_train.append(0)\n",
    "    y_train.append(0)\n",
    "    x_test.append(0)\n",
    "    y_test.append(0)\n",
    "    \n",
    "for i in range(len(classes)):\n",
    "    x_train[i], x_test[i], y_train[i], y_test[i] = train_test_split(iris.data, target[i], test_size = 0.2)"
   ]
  },
  {
   "cell_type": "code",
   "execution_count": 5,
   "metadata": {},
   "outputs": [],
   "source": [
    "def sigmoid(z):\n",
    "    s = float(1/((1.0 + float((1.0/math.exp(z))))))\n",
    "    return s\n",
    "\n",
    "def hypothesis(x, m):\n",
    "    z = 0\n",
    "    for i in range(len(m)):\n",
    "        z += m[i]*x[i]\n",
    "    return sigmoid(z)"
   ]
  },
  {
   "cell_type": "code",
   "execution_count": 6,
   "metadata": {},
   "outputs": [],
   "source": [
    "def step_gradient(x, y, theta_current, learning_rate):\n",
    "    m = len(y)\n",
    "    feature_numbers = x.shape[1]\n",
    "    new_theta = np.zeros(feature_numbers)\n",
    "    for i in range(feature_numbers):\n",
    "        slope = 0\n",
    "        for j in range(m):\n",
    "            slope += (1/m)*x[j][i]*(hypothesis(x[j], theta_current) - y[j])\n",
    "        new_theta[i] = theta_current[i] - (learning_rate*slope)\n",
    "    return new_theta\n",
    "\n",
    "def cost_gd(x, y, theta):\n",
    "    m = len(y)\n",
    "    feature_numbers = x.shape[1]\n",
    "    total_cost = 0\n",
    "    for j in range(m):\n",
    "        if(y[j] == 1):\n",
    "            total_cost += -1*y[j]*math.log(hypothesis(x[j], theta))\n",
    "        elif(y[j] == 0):\n",
    "            total_cost += -1*(1-y[j])*math.log(1-hypothesis(x[j], theta))\n",
    "    return total_cost/m\n",
    "\n",
    "def gd_runner(x, y, learning_rate, num_iterations):\n",
    "    m = len(y)\n",
    "    feature_numbers = x.shape[1]\n",
    "    theta_current = np.zeros(feature_numbers)\n",
    "    print(\"Start Cost\", cost_gd(x, y, theta_current))\n",
    "    for i in range(num_iterations):\n",
    "        theta_current = step_gradient(x, y, theta_current, learning_rate)\n",
    "    print(\"Final Cost\", cost_gd(x, y, theta_current))\n",
    "    return theta_current\n",
    "\n",
    "def predict(x, theta):\n",
    "    m = x.shape[0]\n",
    "    feature_numbers = x.shape[1]\n",
    "    predictions = np.zeros(m)\n",
    "    for i in range(m):\n",
    "        predictions[i] = round(hypothesis(x[i], theta))\n",
    "    return predictions"
   ]
  },
  {
   "cell_type": "code",
   "execution_count": 7,
   "metadata": {},
   "outputs": [
    {
     "name": "stdout",
     "output_type": "stream",
     "text": [
      "Start Cost 0.6931471805599461\n",
      "Final Cost 0.0075507739353354725\n",
      "Start Cost 0.6931471805599461\n",
      "Final Cost 0.47863121415293114\n",
      "Start Cost 0.6931471805599461\n",
      "Final Cost 0.13711822650065963\n",
      "[array([ 0.58992731,  1.84661867, -2.83092768, -1.28859174]), array([ 0.87966143, -2.08056136,  0.86077616, -2.26514502]), array([-2.05268595, -2.30583108,  2.94675526,  3.09292903])]\n"
     ]
    }
   ],
   "source": [
    "theta = []\n",
    "for i in range(len(classes)):\n",
    "    theta.append(gd_runner(x_train[i], y_train[i], 0.01, 10000))\n",
    "print(theta)"
   ]
  },
  {
   "cell_type": "code",
   "execution_count": 33,
   "metadata": {},
   "outputs": [
    {
     "name": "stdout",
     "output_type": "stream",
     "text": [
      "Start Cost 0.6931471805599461\n",
      "Final Cost 0.004065203230328945\n",
      "Start Cost 0.6931471805599461\n",
      "Final Cost 0.44977578168304605\n"
     ]
    }
   ],
   "source": [
    "#abhi sabki cost kam nhi aa rhi sirf pehle wale ki aa rhi hai so, har ek ke liye alag iterations and learning rate denge\n",
    "theta_new = []\n",
    "theta.append(gd_runner(x_train[0], y_train[0], 0.2, 1000))\n",
    "theta.append(gd_runner(x_train[1], y_train[1], 0.2, 10000))"
   ]
  },
  {
   "cell_type": "code",
   "execution_count": 9,
   "metadata": {},
   "outputs": [
    {
     "name": "stdout",
     "output_type": "stream",
     "text": [
      "[1, 1, 0, 0, 0, 0, 0, 0, 1, 0, 1, 1, 0, 1, 0, 0, 0, 0, 0, 1, 0, 1, 0, 1, 0, 1, 0, 0, 0, 0]\n",
      "[1 1 0 0 0 0 0 0 1 0 1 1 0 1 0 0 0 0 0 1 0 1 0 1 0 1 0 0 0 0]\n",
      "[0, 0, 0, 0, 0, 0, 1, 0, 1, 0, 0, 0, 0, 0, 1, 1, 0, 0, 0, 0, 0, 1, 0, 0, 0, 0, 0, 1, 0, 0]\n",
      "[1 0 1 1 1 0 0 0 0 0 0 0 1 1 1 1 1 1 0 0 0 0 0 0 0 0 1 1 0 0]\n",
      "[0, 0, 0, 0, 1, 0, 0, 0, 0, 0, 0, 0, 0, 0, 0, 0, 0, 1, 0, 1, 0, 0, 0, 0, 0, 0, 0, 1, 1, 0]\n",
      "[0 0 0 0 1 0 0 0 0 0 0 0 0 1 0 0 0 1 0 1 0 0 0 0 0 1 0 1 1 0]\n"
     ]
    }
   ],
   "source": [
    "for i in range(len(classes)):\n",
    "    print(y_test[i])\n",
    "    print(predict(x_test[i], theta[i]).astype(int))"
   ]
  },
  {
   "cell_type": "code",
   "execution_count": null,
   "metadata": {},
   "outputs": [],
   "source": []
  }
 ],
 "metadata": {
  "kernelspec": {
   "display_name": "Python 3",
   "language": "python",
   "name": "python3"
  },
  "language_info": {
   "codemirror_mode": {
    "name": "ipython",
    "version": 3
   },
   "file_extension": ".py",
   "mimetype": "text/x-python",
   "name": "python",
   "nbconvert_exporter": "python",
   "pygments_lexer": "ipython3",
   "version": "3.6.4"
  }
 },
 "nbformat": 4,
 "nbformat_minor": 2
}
