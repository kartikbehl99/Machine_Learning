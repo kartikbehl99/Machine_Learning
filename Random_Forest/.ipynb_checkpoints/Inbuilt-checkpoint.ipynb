{
 "cells": [
  {
   "cell_type": "markdown",
   "metadata": {},
   "source": [
    "# Imports"
   ]
  },
  {
   "cell_type": "code",
   "execution_count": 24,
   "metadata": {},
   "outputs": [],
   "source": [
    "import numpy as np\n",
    "from sklearn import datasets\n",
    "from sklearn.ensemble import RandomForestRegressor\n",
    "from sklearn.ensemble import RandomForestClassifier\n",
    "from sklearn.model_selection import train_test_split"
   ]
  },
  {
   "cell_type": "markdown",
   "metadata": {},
   "source": [
    "# Loading data"
   ]
  },
  {
   "cell_type": "code",
   "execution_count": 25,
   "metadata": {},
   "outputs": [],
   "source": [
    "#Regression Data\n",
    "boston = datasets.load_boston()\n",
    "x_train_b, x_test_b, y_train_b, y_test_b = train_test_split(boston.data, boston.target, test_size = 0.2)\n",
    "\n",
    "#Classification data\n",
    "iris = datasets.load_iris()\n",
    "x_train_i, x_test_i, y_train_i, y_test_i = train_test_split(iris.data, iris.target, test_size = 0.2)"
   ]
  },
  {
   "cell_type": "markdown",
   "metadata": {},
   "source": [
    "# Regression"
   ]
  },
  {
   "cell_type": "code",
   "execution_count": 26,
   "metadata": {},
   "outputs": [
    {
     "name": "stdout",
     "output_type": "stream",
     "text": [
      "RandomForestRegressor(bootstrap=True, criterion='mse', max_depth=None,\n",
      "           max_features='auto', max_leaf_nodes=None,\n",
      "           min_impurity_decrease=0.0, min_impurity_split=None,\n",
      "           min_samples_leaf=1, min_samples_split=2,\n",
      "           min_weight_fraction_leaf=0.0, n_estimators=300, n_jobs=1,\n",
      "           oob_score=False, random_state=None, verbose=0, warm_start=False)\n",
      "[41.07733333 42.00666667 22.043      21.513      15.556      24.34666667\n",
      " 16.68866667 35.09       23.72033333 12.94833333 43.774      26.83366667\n",
      " 16.90066667 21.64866667 19.91833333 27.994      20.19266667 19.16166667\n",
      " 19.322      21.24833333 38.31566667 18.42133333 13.73466667 27.41133333\n",
      " 23.75733333 35.99866667 19.32166667 13.67766667 14.354      29.29833333\n",
      " 17.53033333 41.54466667 45.281      16.04266667 24.35433333 19.966\n",
      " 23.564      19.326      12.741      10.41166667 29.26666667 16.17333333\n",
      "  7.173      35.99933333 19.27166667 17.66633333 19.34466667 19.763\n",
      " 46.531      15.71733333 47.53366667 18.91766667 17.518      21.082\n",
      " 20.41633333 18.116      34.77233333 16.37466667 21.83733333 20.98433333\n",
      " 15.953      22.224      21.77466667 29.46766667 19.655      33.259\n",
      " 14.91333333 21.03566667 23.85566667 31.18866667 21.53866667 18.31166667\n",
      " 21.67133333 42.66666667 45.217      13.07866667 11.12766667 14.40666667\n",
      " 14.49366667 15.79       32.18966667 20.09966667 24.10933333 19.84433333\n",
      " 19.18766667 22.604      21.62566667 19.74433333 18.91766667 22.191\n",
      " 19.216      21.56433333 14.27866667 14.851      23.27566667 14.29866667\n",
      " 20.63566667 24.77333333 44.77933333 26.20833333 13.73866667 22.16766667]\n",
      "0.8949723246089144\n"
     ]
    }
   ],
   "source": [
    "regressor = RandomForestRegressor(criterion = 'mse', n_estimators = 300)\n",
    "print(regressor.fit(x_train_b, y_train_b))\n",
    "print(regressor.predict(x_test_b))\n",
    "print(regressor.score(x_test_b, y_test_b))"
   ]
  },
  {
   "cell_type": "markdown",
   "metadata": {},
   "source": [
    "# Classification"
   ]
  },
  {
   "cell_type": "code",
   "execution_count": 28,
   "metadata": {},
   "outputs": [
    {
     "name": "stdout",
     "output_type": "stream",
     "text": [
      "RandomForestClassifier(bootstrap=True, class_weight=None, criterion='entropy',\n",
      "            max_depth=None, max_features='auto', max_leaf_nodes=None,\n",
      "            min_impurity_decrease=0.0, min_impurity_split=None,\n",
      "            min_samples_leaf=1, min_samples_split=2,\n",
      "            min_weight_fraction_leaf=0.0, n_estimators=300, n_jobs=1,\n",
      "            oob_score=False, random_state=None, verbose=0,\n",
      "            warm_start=False)\n",
      "[1 0 1 2 2 0 2 1 2 2 2 0 1 0 1 1 1 0 0 0 0 1 2 1 2 1 2 0 2 0]\n",
      "0.9666666666666667\n"
     ]
    }
   ],
   "source": [
    "clf = RandomForestClassifier(criterion = 'entropy', n_estimators = 300)\n",
    "print(clf.fit(x_train_i, y_train_i))\n",
    "print(clf.predict(x_test_i))\n",
    "print(clf.score(x_test_i, y_test_i))"
   ]
  },
  {
   "cell_type": "code",
   "execution_count": null,
   "metadata": {},
   "outputs": [],
   "source": []
  }
 ],
 "metadata": {
  "kernelspec": {
   "display_name": "Python 3",
   "language": "python",
   "name": "python3"
  },
  "language_info": {
   "codemirror_mode": {
    "name": "ipython",
    "version": 3
   },
   "file_extension": ".py",
   "mimetype": "text/x-python",
   "name": "python",
   "nbconvert_exporter": "python",
   "pygments_lexer": "ipython3",
   "version": "3.6.4"
  }
 },
 "nbformat": 4,
 "nbformat_minor": 2
}
