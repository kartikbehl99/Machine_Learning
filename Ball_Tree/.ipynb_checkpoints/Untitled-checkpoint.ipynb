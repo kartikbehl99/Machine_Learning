{
 "cells": [
  {
   "cell_type": "code",
   "execution_count": 1,
   "metadata": {},
   "outputs": [],
   "source": [
    "import numpy as np\n",
    "from sklearn.neighbors import BallTree"
   ]
  },
  {
   "cell_type": "code",
   "execution_count": 6,
   "metadata": {},
   "outputs": [],
   "source": [
    "np.random.seed(0)\n",
    "x = 2*np.random.random((10,3))"
   ]
  },
  {
   "cell_type": "code",
   "execution_count": 7,
   "metadata": {},
   "outputs": [
    {
     "data": {
      "text/plain": [
       "array([[1.09762701, 1.43037873, 1.20552675],\n",
       "       [1.08976637, 0.8473096 , 1.29178823],\n",
       "       [0.87517442, 1.783546  , 1.92732552],\n",
       "       [0.76688304, 1.58345008, 1.05778984],\n",
       "       [1.13608912, 1.85119328, 0.14207212],\n",
       "       [0.1742586 , 0.04043679, 1.66523969],\n",
       "       [1.5563135 , 1.7400243 , 1.95723668],\n",
       "       [1.59831713, 0.92295872, 1.56105835],\n",
       "       [0.23654885, 1.27984204, 0.28670657],\n",
       "       [1.88933783, 1.04369664, 0.82932388]])"
      ]
     },
     "execution_count": 7,
     "metadata": {},
     "output_type": "execute_result"
    }
   ],
   "source": [
    "x"
   ]
  },
  {
   "cell_type": "code",
   "execution_count": 8,
   "metadata": {},
   "outputs": [],
   "source": [
    "tree = BallTree(x, metric = 'minkowski', leaf_size = 2)"
   ]
  },
  {
   "cell_type": "code",
   "execution_count": 11,
   "metadata": {},
   "outputs": [],
   "source": [
    "distances, indices = tree.query(x, k=2) #distances and indices of k nearest neighbors"
   ]
  },
  {
   "cell_type": "code",
   "execution_count": 10,
   "metadata": {},
   "outputs": [
    {
     "data": {
      "text/plain": [
       "(array([[0.        , 0.39325387],\n",
       "        [0.        , 0.58039045],\n",
       "        [0.        , 0.68318318],\n",
       "        [0.        , 0.39325387],\n",
       "        [0.        , 1.02300464],\n",
       "        [0.        , 1.27619128],\n",
       "        [0.        , 0.68318318],\n",
       "        [0.        , 0.58039045],\n",
       "        [0.        , 0.98387072],\n",
       "        [0.        , 0.7966844 ]]), array([[0, 3],\n",
       "        [1, 7],\n",
       "        [2, 6],\n",
       "        [3, 0],\n",
       "        [4, 3],\n",
       "        [5, 1],\n",
       "        [6, 2],\n",
       "        [7, 1],\n",
       "        [8, 3],\n",
       "        [9, 7]], dtype=int64))"
      ]
     },
     "execution_count": 10,
     "metadata": {},
     "output_type": "execute_result"
    }
   ],
   "source": [
    "distances, indices"
   ]
  },
  {
   "cell_type": "code",
   "execution_count": 17,
   "metadata": {},
   "outputs": [],
   "source": [
    "indices = tree.query_radius(x, r = 0.3) #indices of neigbors with radiuswithin distance 0.3"
   ]
  },
  {
   "cell_type": "code",
   "execution_count": 19,
   "metadata": {},
   "outputs": [
    {
     "name": "stdout",
     "output_type": "stream",
     "text": [
      "[array([0], dtype=int64) array([1], dtype=int64) array([2], dtype=int64)\n",
      " array([3], dtype=int64) array([4], dtype=int64) array([5], dtype=int64)\n",
      " array([6], dtype=int64) array([7], dtype=int64) array([8], dtype=int64)\n",
      " array([9], dtype=int64)]\n"
     ]
    }
   ],
   "source": [
    "print(indices)"
   ]
  }
 ],
 "metadata": {
  "kernelspec": {
   "display_name": "Python 3",
   "language": "python",
   "name": "python3"
  },
  "language_info": {
   "codemirror_mode": {
    "name": "ipython",
    "version": 3
   },
   "file_extension": ".py",
   "mimetype": "text/x-python",
   "name": "python",
   "nbconvert_exporter": "python",
   "pygments_lexer": "ipython3",
   "version": "3.6.4"
  }
 },
 "nbformat": 4,
 "nbformat_minor": 2
}
