{
 "cells": [
  {
   "cell_type": "markdown",
   "metadata": {},
   "source": [
    "# Imports"
   ]
  },
  {
   "cell_type": "code",
   "execution_count": 2,
   "metadata": {},
   "outputs": [],
   "source": [
    "import numpy as np\n",
    "from sklearn import datasets, model_selection, neighbors, metrics\n",
    "import matplotlib.pyplot as plt\n",
    "import math\n",
    "import operator\n",
    "from collections import Counter"
   ]
  },
  {
   "cell_type": "markdown",
   "metadata": {},
   "source": [
    "# Loading Data"
   ]
  },
  {
   "cell_type": "code",
   "execution_count": 3,
   "metadata": {},
   "outputs": [],
   "source": [
    "iris = datasets.load_iris()\n",
    "x_train, x_test, y_train, y_test = model_selection.train_test_split(iris.data[:,:2], iris.target, test_size = 0.2)\n",
    "classes = np.unique(iris.target)\n",
    "# classes"
   ]
  },
  {
   "cell_type": "markdown",
   "metadata": {},
   "source": [
    "# Inbuilt"
   ]
  },
  {
   "cell_type": "code",
   "execution_count": 4,
   "metadata": {},
   "outputs": [
    {
     "name": "stdout",
     "output_type": "stream",
     "text": [
      "[2 1 2 1 0 0 2 0 2 0 0 1 0 1 1 0 1 2 1 0 0 1 2 2 1 2 0 2 0 1]\n",
      "[1 2 2 1 0 0 1 0 1 0 0 1 0 2 1 0 1 1 1 1 0 1 2 2 1 1 0 2 0 2]\n"
     ]
    },
    {
     "data": {
      "text/plain": [
       "array([[10,  1,  0],\n",
       "       [ 0,  7,  3],\n",
       "       [ 0,  5,  4]], dtype=int64)"
      ]
     },
     "execution_count": 4,
     "metadata": {},
     "output_type": "execute_result"
    }
   ],
   "source": [
    "clf = neighbors.KNeighborsClassifier(n_neighbors = 7)\n",
    "clf.fit(x_train, y_train)\n",
    "print(y_test)\n",
    "print(clf.predict(x_test))\n",
    "metrics.confusion_matrix(y_test, clf.predict(x_test))"
   ]
  },
  {
   "cell_type": "markdown",
   "metadata": {},
   "source": [
    "# KNN"
   ]
  },
  {
   "cell_type": "code",
   "execution_count": 5,
   "metadata": {},
   "outputs": [
    {
     "name": "stdout",
     "output_type": "stream",
     "text": [
      "[2 1 2 1 0 0 2 0 2 0 0 1 0 1 1 0 1 2 1 0 0 1 2 2 1 2 0 2 0 1]\n",
      "[1 2 2 1 0 0 1 0 1 0 0 1 0 2 1 0 1 1 1 1 0 1 2 2 1 1 0 2 0 2]\n",
      "[[10  1  0]\n",
      " [ 0  7  3]\n",
      " [ 0  5  4]]\n"
     ]
    }
   ],
   "source": [
    "def euclidian_distance(x, y):\n",
    "    distance = math.sqrt((x[0]-y[0])**2 + (x[1]-y[1])**2)\n",
    "    return distance\n",
    "\n",
    "def KNN(x_train, x_test):\n",
    "    m = len(y_train)\n",
    "    dictionary = {}\n",
    "    for i in range(m):\n",
    "        distance = euclidian_distance(x_train[i,:], x_test)\n",
    "        dictionary[i] = distance\n",
    "    return sorted(dictionary.items(), key = operator.itemgetter(1))\n",
    "\n",
    "def KNN_runner(x_train, y_train, x_test, k):\n",
    "    distances = []\n",
    "    for i in range(x_test.shape[0]):\n",
    "        distances.append(KNN(x_train, x_test[i,:]))\n",
    "    k_nearest = []\n",
    "    for i in range(len(distances)):\n",
    "        helper = []\n",
    "        for j in range(k):\n",
    "            helper.append(distances[i][j])\n",
    "        k_nearest.append(helper)\n",
    "    y_predicted = np.zeros(x_test.shape[0])\n",
    "    for i in range(len(k_nearest)):\n",
    "        possible_classes = []\n",
    "        for j in range(k):\n",
    "            possible_classes.append(y_train[k_nearest[i][j][0]])\n",
    "        count = Counter(possible_classes)\n",
    "        y_predicted[i] = count.most_common(1)[0][0]\n",
    "    return y_predicted\n",
    "\n",
    "y_predicted = KNN_runner(x_train, y_train, x_test, 7)\n",
    "print(y_test)\n",
    "print(y_predicted.astype(int))\n",
    "print(metrics.confusion_matrix(y_test, y_predicted))"
   ]
  },
  {
   "cell_type": "markdown",
   "metadata": {},
   "source": [
    "# Decision Boundary"
   ]
  },
  {
   "cell_type": "code",
   "execution_count": 6,
   "metadata": {},
   "outputs": [],
   "source": [
    "def make_grid(x, h = 0.02):\n",
    "    x1_min = x[:,0].min() - 1\n",
    "    x1_max = x[:,0].max() + 1\n",
    "    x2_min = x[:,1].min() - 1\n",
    "    x2_max = x[:,1].max() + 1\n",
    "    a = np.arange(x1_min, x1_max, h)\n",
    "    b = np.arange(x2_min, x2_max, h)\n",
    "    xx, yy = np.meshgrid(a, b)\n",
    "    return xx, yy"
   ]
  },
  {
   "cell_type": "code",
   "execution_count": 7,
   "metadata": {},
   "outputs": [
    {
     "data": {
      "image/png": "[encoded data removed]",
      "text/plain": [
       "<matplotlib.figure.Figure at 0x19658965f98>"
      ]
     },
     "metadata": {},
     "output_type": "display_data"
    }
   ],
   "source": [
    "#decision boundary obtained from inbuilt KNN\n",
    "xx, yy = make_grid(x_train)\n",
    "y_pred_inbuilt = clf.predict(np.c_[xx.ravel(), yy.ravel()])\n",
    "plt.scatter(xx.ravel(), yy.ravel(), c = y_pred_inbuilt)\n",
    "plt.show()"
   ]
  },
  {
   "cell_type": "code",
   "execution_count": 8,
   "metadata": {},
   "outputs": [
    {
     "data": {
      "image/png": "[encoded data removed]",
      "text/plain": [
       "<matplotlib.figure.Figure at 0x19658813898>"
      ]
     },
     "metadata": {},
     "output_type": "display_data"
    }
   ],
   "source": [
    "#decision boundary obtained from custom KNN\n",
    "y_pred_customKNN = KNN_runner(x_train, y_train, np.c_[xx.ravel(), yy.ravel()], 7)\n",
    "plt.scatter(xx.ravel(), yy.ravel(), c = y_pred_customKNN)\n",
    "plt.show()"
   ]
  }
 ],
 "metadata": {
  "kernelspec": {
   "display_name": "Python 3",
   "language": "python",
   "name": "python3"
  },
  "language_info": {
   "codemirror_mode": {
    "name": "ipython",
    "version": 3
   },
   "file_extension": ".py",
   "mimetype": "text/x-python",
   "name": "python",
   "nbconvert_exporter": "python",
   "pygments_lexer": "ipython3",
   "version": "3.6.4"
  }
 },
 "nbformat": 4,
 "nbformat_minor": 2
}
