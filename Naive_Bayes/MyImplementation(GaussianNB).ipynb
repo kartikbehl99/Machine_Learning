{
 "cells": [
  {
   "cell_type": "markdown",
   "metadata": {},
   "source": [
    "# Imports"
   ]
  },
  {
   "cell_type": "code",
   "execution_count": 101,
   "metadata": {},
   "outputs": [],
   "source": [
    "import numpy as np\n",
    "import matplotlib.pyplot as plt\n",
    "from sklearn import datasets, metrics, naive_bayes, model_selection\n",
    "import math"
   ]
  },
  {
   "cell_type": "markdown",
   "metadata": {},
   "source": [
    "# Loading data"
   ]
  },
  {
   "cell_type": "code",
   "execution_count": 102,
   "metadata": {},
   "outputs": [
    {
     "data": {
      "text/plain": [
       "array([0, 1, 2])"
      ]
     },
     "execution_count": 102,
     "metadata": {},
     "output_type": "execute_result"
    }
   ],
   "source": [
    "iris = datasets.load_iris()\n",
    "x_train, x_test, y_train, y_test = model_selection.train_test_split(iris.data, iris.target, test_size = 0.2)\n",
    "classes = np.unique(iris.target)\n",
    "classes"
   ]
  },
  {
   "cell_type": "markdown",
   "metadata": {},
   "source": [
    "# Naive bayes(Gaussian NB)"
   ]
  },
  {
   "cell_type": "code",
   "execution_count": 103,
   "metadata": {},
   "outputs": [],
   "source": [
    "#This function calculates mean\n",
    "def mean(x):\n",
    "    sum = 0\n",
    "    for i in range(len(x)):\n",
    "        sum += x[i]\n",
    "    return sum/len(x)\n",
    "\n",
    "# This function calculates the standard deviation\n",
    "def standard_deviation(x):\n",
    "    mean_x = mean(x)\n",
    "    squared_differences = np.zeros(len(x))\n",
    "    for i in range(len(x)):\n",
    "        squared_differences[i] = (x[i] - mean_x)**2\n",
    "    squared_mean = squared_differences.mean()\n",
    "    answer = math.sqrt(squared_mean)\n",
    "    return answer\n",
    "\n",
    "#this function will summarize data in the form {class:(mean, std_dev),(mean, std_dev); class:(mean:std_dev)}\n",
    "def summarize(x, y, classes):\n",
    "    summary = {}\n",
    "    m = x.shape[0]\n",
    "    for i in classes:\n",
    "        summary[i] = []\n",
    "        for j in range(x.shape[1]):\n",
    "            numbers = []\n",
    "            for k in range(m):\n",
    "                if y[k] == i:\n",
    "                    numbers.append(x[k,j])\n",
    "            summary[i].append([mean(numbers), standard_deviation(numbers)])\n",
    "    return summary\n",
    "\n",
    "def probability(x, mean, std_deviation):\n",
    "    prob = (1/math.sqrt(2*math.pi*(std_deviation)**2)) * math.exp(-((x-mean)**2)/(2*(std_deviation)**2))\n",
    "    return prob\n",
    "\n",
    "#This function calculates net probability of classes\n",
    "def class_probability(summarized_data, x_test):\n",
    "    probabilities = {}\n",
    "    for i in summarized_data.keys():\n",
    "        prob_helper = 1\n",
    "        for j in range(len(summarized_data[i])):\n",
    "            x = x_test[j]\n",
    "            prob_helper *= probability(x, summarized_data[i][j][0], summarized_data[i][j][1])\n",
    "        probabilities[i] = prob_helper\n",
    "    return probabilities\n",
    "\n",
    "def fit(x, y, classes):\n",
    "    summarized_data = summarize(x, y, classes)\n",
    "    return summarized_data\n",
    "\n",
    "def predict(x, summarized_data):\n",
    "    predictions = []\n",
    "    for i in range(x.shape[0]):\n",
    "        max_prob = -float('inf')\n",
    "        predicted_class = 0\n",
    "        probabilities = class_probability(summarized_data, x[i])\n",
    "        for j in probabilities.keys():\n",
    "            if max_prob < probabilities[j]:\n",
    "                max_prob = probabilities[j]\n",
    "                predicted_class = j\n",
    "        predictions.append(predicted_class)\n",
    "    return predictions\n",
    "        \n",
    "# dataset = [[1,20,0], [2,21,1], [3,22,0]]\n",
    "# r = set(zip(*dataset))\n",
    "# x = summarize(iris.data, iris.target, classes)\n",
    "# class_probability(x, iris.data[0])\n",
    "# len(x[0])\n",
    "# x[0][0]"
   ]
  },
  {
   "cell_type": "code",
   "execution_count": 104,
   "metadata": {},
   "outputs": [
    {
     "data": {
      "text/plain": [
       "array([[11,  0,  0],\n",
       "       [ 0,  6,  0],\n",
       "       [ 0,  0, 13]], dtype=int64)"
      ]
     },
     "execution_count": 104,
     "metadata": {},
     "output_type": "execute_result"
    }
   ],
   "source": [
    "data = fit(x_train, y_train, classes)\n",
    "predictions = predict(x_test, data)\n",
    "metrics.confusion_matrix(y_test, predictions)"
   ]
  },
  {
   "cell_type": "markdown",
   "metadata": {},
   "source": [
    "# Decision Boundary"
   ]
  },
  {
   "cell_type": "code",
   "execution_count": 105,
   "metadata": {},
   "outputs": [
    {
     "data": {
      "text/plain": [
       "GaussianNB(priors=None)"
      ]
     },
     "execution_count": 105,
     "metadata": {},
     "output_type": "execute_result"
    }
   ],
   "source": [
    "# decision boundary for inbuilt\n",
    "clf = naive_bayes.GaussianNB()\n",
    "clf.fit(x_train[:,:2], y_train)"
   ]
  },
  {
   "cell_type": "code",
   "execution_count": 106,
   "metadata": {},
   "outputs": [
    {
     "data": {
      "image/png": "[encoded data removed]",
      "text/plain": [
       "<matplotlib.figure.Figure at 0x18522939780>"
      ]
     },
     "metadata": {},
     "output_type": "display_data"
    }
   ],
   "source": [
    "def make_grid(x, h = 0.02):\n",
    "    x1_min = x[:,0].min() - 1\n",
    "    x1_max = x[:,0].max() + 1\n",
    "    x2_min = x[:,1].min() - 1\n",
    "    x2_max = x[:,1].max() + 1\n",
    "    a = np.arange(x1_min, x1_max, h)\n",
    "    b = np.arange(x2_min, x2_max, h)\n",
    "    xx, yy = np.meshgrid(a,b)\n",
    "    return xx, yy\n",
    "\n",
    "xx, yy = make_grid(x_train[:,:2])\n",
    "predictions = clf.predict(np.c_[xx.ravel(), yy.ravel()])\n",
    "plt.scatter(xx.ravel(), yy.ravel(), c = predictions)\n",
    "plt.show()"
   ]
  },
  {
   "cell_type": "code",
   "execution_count": 107,
   "metadata": {},
   "outputs": [
    {
     "data": {
      "image/png": "[encoded data removed]",
      "text/plain": [
       "<matplotlib.figure.Figure at 0x18522939eb8>"
      ]
     },
     "metadata": {},
     "output_type": "display_data"
    }
   ],
   "source": [
    "# Decision boundary using custom\n",
    "def make_grid(x, h = 0.02):\n",
    "    x1_min = x[:,0].min() - 1\n",
    "    x1_max = x[:,0].max() + 1\n",
    "    x2_min = x[:,1].min() - 1\n",
    "    x2_max = x[:,1].max() + 1\n",
    "    a = np.arange(x1_min, x1_max, h)\n",
    "    b = np.arange(x2_min, x2_max, h)\n",
    "    xx, yy = np.meshgrid(a,b)\n",
    "    return xx, yy\n",
    "\n",
    "xx, yy = make_grid(x_train[:,:2])\n",
    "data = fit(x_train[:,:2], y_train, classes)\n",
    "test_data = np.c_[xx.ravel(), yy.ravel()]\n",
    "prediction = predict(test_data, data)\n",
    "plt.scatter(xx.ravel(), yy.ravel(), c = prediction)\n",
    "plt.show()"
   ]
  },
  {
   "cell_type": "code",
   "execution_count": null,
   "metadata": {},
   "outputs": [],
   "source": []
  }
 ],
 "metadata": {
  "kernelspec": {
   "display_name": "Python 3",
   "language": "python",
   "name": "python3"
  },
  "language_info": {
   "codemirror_mode": {
    "name": "ipython",
    "version": 3
   },
   "file_extension": ".py",
   "mimetype": "text/x-python",
   "name": "python",
   "nbconvert_exporter": "python",
   "pygments_lexer": "ipython3",
   "version": "3.6.4"
  }
 },
 "nbformat": 4,
 "nbformat_minor": 2
}
